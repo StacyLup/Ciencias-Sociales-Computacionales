{
 "cells": [
  {
   "cell_type": "markdown",
   "metadata": {},
   "source": [
    "# **ANÁLISIS ITERATIVO DE LAS CATEGORÍAS IDEOLÓGICAS EN WIKIPEDIA**\n",
    "#### Ramón Zamora, carné 10233"
   ]
  },
  {
   "cell_type": "markdown",
   "metadata": {},
   "source": [
    "## INTRODUCCIÓN\n",
    "El presente proyecto utiliza herramientas de análisis de texto computacional para llevar a cabo un exploración de los datos de los artículos vinculados a las categorías de distintas ideologías que se pueden encontrar en la enciclopedia digial Wikipedia. Para llevar a cabo este ejercicio se utilizarán las librerías de ..."
   ]
  },
  {
   "cell_type": "code",
   "execution_count": 1,
   "metadata": {
    "metadata": {}
   },
   "outputs": [],
   "source": [
    "import wikipediaapi\n",
    "import pickle\n",
    "from pprint import pprint\n",
    "import pandas as pd\n",
    "pd.set_option(\"display.notebook_repr_html\", False)\n",
    "import numpy as np\n",
    "import seaborn as sns\n",
    "import matplotlib.pyplot as plt\n",
    "from dcss.text import bigram_process, preprocess, bow_to_df\n",
    "from dcss.plotting import format_axes_commas, custom_seaborn\n",
    "from dcss.utils import sparse_groupby\n",
    "custom_seaborn()\n",
    "import spacy\n",
    "nlp = spacy.load('en_core_web_sm')\n",
    "from sklearn.feature_extraction.text import CountVectorizer, TfidfVectorizer\n",
    "from sklearn.decomposition import TruncatedSVD\n",
    "from sklearn.preprocessing import Normalizer\n",
    "import scipy\n",
    "from itertools import islice"
   ]
  },
  {
   "cell_type": "code",
   "execution_count": 2,
   "metadata": {
    "metadata": {}
   },
   "outputs": [],
   "source": [
    "wiki_wiki = wikipediaapi.Wikipedia('Ciencias Sociales Computacionales (lup22776@uvg.edu.gt)', 'en')"
   ]
  },
  {
   "cell_type": "code",
   "execution_count": 3,
   "metadata": {
    "metadata": {}
   },
   "outputs": [
    {
     "name": "stdout",
     "output_type": "stream",
     "text": [
      "Anarchism exist: True\n",
      "Authoritarianism exist: True\n",
      "Communitarianism exist: True\n",
      "Communism exist: True\n",
      "Conservatism exist: True\n",
      "Corporatism exist: True\n",
      "Environmentalism exist: True\n",
      "Fascism exist: True\n",
      "Liberalism exist: True\n",
      "Libertarianism exist: True\n",
      "Nationalism exist: True\n",
      "Populism exist: True\n"
     ]
    }
   ],
   "source": [
    "#1. Busqueda de Anarquismo\n",
    "cat_anarchism = wiki_wiki.page(\"Category:Anarchism\")\n",
    "print(\"Anarchism exist: %s\" % cat_anarchism.exists())\n",
    "#2. Busqueda de Autoritarismo\n",
    "cat_authoritarianism = wiki_wiki.page(\"Category:Authoritarianism\")\n",
    "print(\"Authoritarianism exist: %s\" % cat_authoritarianism.exists())\n",
    "# 3. Busqueda de Pensamiento comunitario\n",
    "cat_communitarianism = wiki_wiki.page(\"Category:Communitarianism\")\n",
    "print (\"Communitarianism exist: %s\" % cat_communitarianism.exists())\n",
    "# 4. Busqueda de Comunismo\n",
    "cat_communism = wiki_wiki. page (\"Category:Communism\")\n",
    "print (\"Communism exist: %s\" % cat_communism.exists())\n",
    "# 5. Busqueda de Conservadurismo\n",
    "cat_conservatism = wiki_wiki.page(\"Category:Conservatism\")\n",
    "print (\"Conservatism exist: %s\" % cat_conservatism.exists())\n",
    "# 6. Busqueda de Corporativismo\n",
    "cat_corporatism = wiki_wiki.page(\"Category:Corporatism\")\n",
    "print (\"Corporatism exist: %s\" % cat_corporatism.exists())\n",
    "# 7. Busqueda de Ambiantalismo\n",
    "cat_environmentalism = wiki_wiki.page(\"Category:Environmentalism\")\n",
    "print (\"Environmentalism exist: %s\" % cat_environmentalism.exists())\n",
    "# 8. Busqueda de Facismo\n",
    "cat_fascism = wiki_wiki.page(\"Category:Fascism\")\n",
    "print (\"Fascism exist: %s\" % cat_fascism.exists())\n",
    "# 9. Fascism de Liberalismo\n",
    "cat_liberalism = wiki_wiki.page(\"Category:Liberalism\")\n",
    "print (\"Liberalism exist: %s\" % cat_liberalism.exists())\n",
    "# 10. Busqueda de Libterarismo\n",
    "cat_libertarianism = wiki_wiki.page(\"Category:Libertarianism\")\n",
    "print (\"Libertarianism exist: %s\" % cat_libertarianism.exists())\n",
    "# 11. Busqueda de Nacionalismo\n",
    "cat_nationalism = wiki_wiki.page(\"Category:Nationalism\")\n",
    "print (\"Nationalism exist: %s\" % cat_nationalism.exists())\n",
    "# 12. Busqueda de Populismo\n",
    "cat_populism = wiki_wiki.page(\"Category:Populism\")\n",
    "print (\"Populism exist: %s\" % cat_populism.exists())"
   ]
  },
  {
   "cell_type": "code",
   "execution_count": 4,
   "metadata": {},
   "outputs": [],
   "source": [
    "data = []\n",
    "pages_names = cat_anarchism.categorymembers\n",
    "for key, value in islice (pages_names.items(), 1, None):\n",
    "    page_py = wiki_wiki.page(key)\n",
    "    data.append(\n",
    "        {\n",
    "            'Category': cat_anarchism,\n",
    "            'Namespace': page_py.ns,\n",
    "            'Title': page_py.title,\n",
    "            'Summary': page_py.summary,\n",
    "            'Content': page_py.sections\n",
    "        }\n",
    "    )\n",
    "\n",
    "pages_names = cat_authoritarianism.categorymembers\n",
    "for key, value in islice (pages_names.items(), 1, None):\n",
    "    page_py = wiki_wiki.page(key)\n",
    "    data.append(\n",
    "        {\n",
    "            'Category': cat_authoritarianism,\n",
    "            'Namespace': page_py.ns,\n",
    "            'Title': page_py.title,\n",
    "            'Summary': page_py.summary,\n",
    "            'Content': page_py.sections\n",
    "        }\n",
    "    )\n",
    "\n",
    "pages_names = cat_communitarianism.categorymembers\n",
    "for key, value in islice (pages_names.items(), 1, None):\n",
    "    page_py = wiki_wiki.page(key)\n",
    "    data.append(\n",
    "        {\n",
    "            'Category': cat_communitarianism,\n",
    "            'Namespace': page_py.ns,\n",
    "            'Title': page_py.title,\n",
    "            'Summary': page_py.summary,\n",
    "            'Content': page_py.sections\n",
    "        }\n",
    "    )\n",
    "\n",
    "pages_names = cat_communism.categorymembers\n",
    "for key, value in islice (pages_names.items(), 1, None):\n",
    "    page_py = wiki_wiki.page(key)\n",
    "    data.append(\n",
    "        {\n",
    "            'Category': cat_communism,\n",
    "            'Namespace': page_py.ns,\n",
    "            'Title': page_py.title,\n",
    "            'Summary': page_py.summary,\n",
    "            'Content': page_py.sections\n",
    "        }\n",
    "    )\n",
    "\n",
    "pages_names = cat_conservatism.categorymembers\n",
    "for key, value in islice (pages_names.items(), 1, None):\n",
    "    page_py = wiki_wiki.page(key)\n",
    "    data.append(\n",
    "        {\n",
    "            'Category': cat_conservatism,\n",
    "            'Namespace': page_py.ns,\n",
    "            'Title': page_py.title,\n",
    "            'Summary': page_py.summary,\n",
    "            'Content': page_py.sections\n",
    "        }\n",
    "    )\n",
    "\n",
    "pages_names = cat_corporatism.categorymembers\n",
    "for key, value in islice (pages_names.items(), 1, None):\n",
    "    page_py = wiki_wiki.page(key)\n",
    "    data.append(\n",
    "        {\n",
    "            'Category': cat_corporatism,\n",
    "            'Namespace': page_py.ns,\n",
    "            'Title': page_py.title,\n",
    "            'Summary': page_py.summary,\n",
    "            'Content': page_py.sections\n",
    "        }\n",
    "    )\n",
    "\n",
    "pages_names = cat_environmentalism.categorymembers\n",
    "for key, value in islice (pages_names.items(), 1, None):\n",
    "    page_py = wiki_wiki.page(key)\n",
    "    data.append(\n",
    "        {\n",
    "            'Category': cat_environmentalism,\n",
    "            'Namespace': page_py.ns,\n",
    "            'Title': page_py.title,\n",
    "            'Summary': page_py.summary,\n",
    "            'Content': page_py.sections\n",
    "        }\n",
    "    )\n",
    "\n",
    "pages_names = cat_fascism.categorymembers\n",
    "for key, value in islice (pages_names.items(), 1, None):\n",
    "    page_py = wiki_wiki.page(key)\n",
    "    data.append(\n",
    "        {\n",
    "            'Category': cat_fascism,\n",
    "            'Namespace': page_py.ns,\n",
    "            'Title': page_py.title,\n",
    "            'Summary': page_py.summary,\n",
    "            'Content': page_py.sections\n",
    "        }\n",
    "    )\n",
    "\n",
    "pages_names = cat_liberalism.categorymembers\n",
    "for key, value in islice (pages_names.items(), 1, None):\n",
    "    page_py = wiki_wiki.page(key)\n",
    "    data.append(\n",
    "        {\n",
    "            'Category': cat_liberalism,\n",
    "            'Namespace': page_py.ns,\n",
    "            'Title': page_py.title,\n",
    "            'Summary': page_py.summary,\n",
    "            'Content': page_py.sections\n",
    "        }\n",
    "    )\n",
    "\n",
    "pages_names = cat_libertarianism.categorymembers\n",
    "for key, value in islice (pages_names.items(), 1, None):\n",
    "    page_py = wiki_wiki.page(key)\n",
    "    data.append(\n",
    "        {\n",
    "            'Category': cat_libertarianism,\n",
    "            'Namespace': page_py.ns,\n",
    "            'Title': page_py.title,\n",
    "            'Summary': page_py.summary,\n",
    "            'Content': page_py.sections\n",
    "        }\n",
    "    )\n",
    "\n",
    "pages_names = cat_nationalism.categorymembers\n",
    "for key, value in islice (pages_names.items(), 1, None):\n",
    "    page_py = wiki_wiki.page(key)\n",
    "    data.append(\n",
    "        {\n",
    "            'Category': cat_nationalism,\n",
    "            'Namespace': page_py.ns,\n",
    "            'Title': page_py.title,\n",
    "            'Summary': page_py.summary,\n",
    "            'Content': page_py.sections\n",
    "        }\n",
    "    )\n",
    "\n",
    "pages_names = cat_populism.categorymembers\n",
    "for key, value in islice (pages_names.items(), 1, None):\n",
    "    page_py = wiki_wiki.page(key)\n",
    "    data.append(\n",
    "        {\n",
    "            'Category': cat_populism,\n",
    "            'Namespace': page_py.ns,\n",
    "            'Title': page_py.title,\n",
    "            'Summary': page_py.summary,\n",
    "            'Content': page_py.sections\n",
    "        }\n",
    "    )\n",
    "\n",
    "df = pd.DataFrame(data)"
   ]
  },
  {
   "cell_type": "code",
   "execution_count": 5,
   "metadata": {},
   "outputs": [],
   "source": [
    "df.to_csv('ideologias.csv')"
   ]
  },
  {
   "cell_type": "code",
   "execution_count": 6,
   "metadata": {},
   "outputs": [
    {
     "data": {
      "text/plain": [
       "Category\n",
       "Category:Authoritarianism (id: 36055803, ns: 14)    150\n",
       "Category:Environmentalism (id: 737047, ns: 14)      124\n",
       "Category:Liberalism (id: 724440, ns: 14)            108\n",
       "Category:Communism (id: 722710, ns: 14)              95\n",
       "Category:Nationalism (id: 846456, ns: 14)            87\n",
       "Category:Conservatism (id: 780171, ns: 14)           75\n",
       "Category:Corporatism (id: 21722509, ns: 14)          73\n",
       "Category:Fascism (id: 889991, ns: 14)                68\n",
       "Category:Populism (id: 19997168, ns: 14)             62\n",
       "Category:Anarchism (id: 780754, ns: 14)              44\n",
       "Category:Libertarianism (id: 1543366, ns: 14)        39\n",
       "Category:Communitarianism (id: 49526307, ns: 14)     16\n",
       "Name: count, dtype: int64"
      ]
     },
     "execution_count": 6,
     "metadata": {},
     "output_type": "execute_result"
    }
   ],
   "source": [
    "columns = ['Category', 'Namespace', 'Title', 'Summary', 'Content']\n",
    "wiki_df = pd.read_csv(\"ideologias.csv\")\n",
    "wiki_df.dropna(subset = ['Title', 'Summary'], inplace=True)\n",
    "wiki_df = wiki_df.query('Namespace < 1')\n",
    "wiki_df['Category'].value_counts()"
   ]
  },
  {
   "cell_type": "code",
   "execution_count": 7,
   "metadata": {},
   "outputs": [
    {
     "data": {
      "text/plain": [
       "Category\n",
       "Category:Authoritarianism (id: 36055803, ns: 14)    150\n",
       "Category:Environmentalism (id: 737047, ns: 14)      124\n",
       "Category:Liberalism (id: 724440, ns: 14)            108\n",
       "Category:Communism (id: 722710, ns: 14)              95\n",
       "Category:Nationalism (id: 846456, ns: 14)            87\n",
       "Category:Conservatism (id: 780171, ns: 14)           75\n",
       "Category:Corporatism (id: 21722509, ns: 14)          73\n",
       "Category:Fascism (id: 889991, ns: 14)                68\n",
       "Category:Populism (id: 19997168, ns: 14)             62\n",
       "Category:Anarchism (id: 780754, ns: 14)              44\n",
       "Category:Libertarianism (id: 1543366, ns: 14)        39\n",
       "Category:Communitarianism (id: 49526307, ns: 14)     16\n",
       "Name: count, dtype: int64"
      ]
     },
     "execution_count": 7,
     "metadata": {},
     "output_type": "execute_result"
    }
   ],
   "source": [
    "content_keep = [\n",
    "    'Category:Authoritarianism (id: 36055803, ns: 14)',\n",
    "    'Category:Environmentalism (id: 737047, ns: 14)',\n",
    "    'Category:Liberalism (id: 724440, ns: 14)',\n",
    "    'Category:Communism (id: 722710, ns: 14)',\n",
    "    'Category:Nationalism (id: 846456, ns: 14)',\n",
    "    'Category:Conservatism (id: 780171, ns: 14)',\n",
    "    'Category:Corporatism (id: 21722509, ns: 14)',\n",
    "    'Category:Fascism (id: 889991, ns: 14)',\n",
    "    'Category:Populism (id: 19997168, ns: 14)',\n",
    "    'Category:Anarchism (id: 780754, ns: 14)',\n",
    "    'Category:Libertarianism (id: 1543366, ns: 14)',\n",
    "    'Category:Communitarianism (id: 49526307, ns: 14)'\n",
    "]\n",
    "content_subset = wiki_df[wiki_df['Category'].isin(content_keep)].copy()\n",
    "content_subset.reset_index(drop=True, inplace=True)\n",
    "total_content_counts = content_subset['Category'].value_counts()\n",
    "total_content_counts"
   ]
  },
  {
   "cell_type": "code",
   "execution_count": 8,
   "metadata": {},
   "outputs": [
    {
     "data": {
      "text/plain": [
       "472"
      ]
     },
     "execution_count": 8,
     "metadata": {},
     "output_type": "execute_result"
    }
   ],
   "source": [
    "sampled_contents = content_subset.groupby('Category').sample(replace=False, frac=.5, random_state=23)\n",
    "len(sampled_contents)"
   ]
  },
  {
   "cell_type": "code",
   "execution_count": 9,
   "metadata": {},
   "outputs": [],
   "source": [
    "with open('sampled_wiki_ideologias_content.pkl', 'wb') as fp:\n",
    "    pickle.dump(sampled_contents, fp)\n",
    "sampled_contents_counts = sampled_contents['Category'].value_counts()\n",
    "sample_sizes = pd.DataFrame(zip(total_content_counts, sampled_contents_counts), columns=['Total', 'Sample'], index=content_keep)"
   ]
  },
  {
   "cell_type": "code",
   "execution_count": 10,
   "metadata": {},
   "outputs": [],
   "source": [
    "sampled_contents['content_len'] = sampled_contents['Content'].apply(lambda x: len(x.split()))"
   ]
  },
  {
   "cell_type": "code",
   "execution_count": 1,
   "metadata": {},
   "outputs": [
    {
     "ename": "SyntaxError",
     "evalue": "unmatched ')' (2551215278.py, line 18)",
     "output_type": "error",
     "traceback": [
      "\u001b[0;36m  Cell \u001b[0;32mIn[1], line 18\u001b[0;36m\u001b[0m\n\u001b[0;31m    categoria_subplot(categories.get_group('Category:Communitarianism (id: 49526307, ns: 14)'), 'Communitarianism', ax[2,3]))\u001b[0m\n\u001b[0m                                                                                                                            ^\u001b[0m\n\u001b[0;31mSyntaxError\u001b[0m\u001b[0;31m:\u001b[0m unmatched ')'\n"
     ]
    }
   ],
   "source": [
    "categories = sampled_contents.groupby('Category')\n",
    "def categoria_subplot(subgroup, title, position):\n",
    "    sns.kdeplot(ax = position, data=subgroup, x='content_len', log_scale=True, fill=True, alpha=.5, linewidth=0, color='black')\n",
    "    position.set(xlabel='Number of tokens (log scale)', title=title)\n",
    "fig, ax = plt.subplots(3, 4, sharex=True, sharey=True, figsize(10, 6))\n",
    "\n",
    "categoria_subplot(categories.get_group('Category:Authoritarianism (id: 36055803, ns: 14)'), 'Authoritarianism', ax[0,0])\n",
    "categoria_subplot(categories.get_group('Category:Environmentalism (id: 737047, ns: 14)'), 'Environmentalism', ax[0,1])\n",
    "categoria_subplot(categories.get_group('Category:Liberalism (id: 724440, ns: 14)'), 'Liberalism', ax[0,2])\n",
    "categoria_subplot(categories.get_group('Category:Communism (id: 722710, ns: 14)'), 'Communism', ax[0,3])\n",
    "categoria_subplot(categories.get_group('Category:Nationalism (id: 846456, ns: 14)'), 'Nationalism', ax[1,0])\n",
    "categoria_subplot(categories.get_group('Category:Conservatism (id: 780171, ns: 14)'), 'Conservatism', ax[1,1])\n",
    "categoria_subplot(categories.get_group('Category:Corporatism (id: 21722509, ns: 14)'), 'Corporatism', ax[1,2])\n",
    "categoria_subplot(categories.get_group('Category:Fascism (id: 889991, ns: 14)'), 'Fascism', ax[1,3])\n",
    "categoria_subplot(categories.get_group('Category:Populism (id: 19997168, ns: 14)'), 'Populism', ax[2,0])\n",
    "categoria_subplot(categories.get_group('Category:Anarchism (id: 780754, ns: 14)'), 'Anarchism', ax[2,1])\n",
    "categoria_subplot(categories.get_group('Category:Libertarianism (id: 1543366, ns: 14)'), 'Libertarianism', ax[2,2])\n",
    "categoria_subplot(categories.get_group('Category:Communitarianism (id: 49526307, ns: 14)'), 'Communitarianism', ax[2,3])\n",
    "\n",
    "plt.tight_layout()\n",
    "plt.show()\n",
    "fig.savefig(\"graficadensidadWiki\")"
   ]
  },
  {
   "cell_type": "code",
   "execution_count": null,
   "metadata": {},
   "outputs": [],
   "source": []
  }
 ],
 "metadata": {
  "kernelspec": {
   "display_name": "Python 3",
   "language": "python",
   "name": "python3"
  },
  "language_info": {
   "codemirror_mode": {
    "name": "ipython",
    "version": 3
   },
   "file_extension": ".py",
   "mimetype": "text/x-python",
   "name": "python",
   "nbconvert_exporter": "python",
   "pygments_lexer": "ipython3",
   "version": "3.10.13"
  }
 },
 "nbformat": 4,
 "nbformat_minor": 2
}
