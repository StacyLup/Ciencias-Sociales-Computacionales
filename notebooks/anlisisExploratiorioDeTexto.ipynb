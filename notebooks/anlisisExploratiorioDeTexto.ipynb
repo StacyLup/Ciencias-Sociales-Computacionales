{
 "cells": [
  {
   "cell_type": "markdown",
   "metadata": {},
   "source": [
    "# INTRODUCCIÓN AL ANÁLISIS EXPLORATORIO DE TEXTO"
   ]
  },
  {
   "cell_type": "markdown",
   "metadata": {},
   "source": [
    "## ANÁLISIS DE CONTENIDO\n",
    "\n",
    "El análisis de contenido es una herramienta no intrusiva y que no tiene un impacto en como las personas se comportan. Describe como usar el libro como guía en un curso dependiendo el enfoque. Parte del conocimiento de expertos que pueden extraer el significado de los textos. \n",
    "\n",
    "Las computadoras pueden ayudar, pero el ejercicio analítico sigue siendo del investigador."
   ]
  },
  {
   "cell_type": "markdown",
   "metadata": {},
   "source": [
    "### _**\"Prácticamente todas las disciplinas dentro del espectro completo de las humanidades y las ciencias sociales, incluidas aquellas que buscan mejorar las condiciones políticas y sociales de vida, se preocupan por las funciones y efectos de símbolos, significados y mensajes. En los últimos años, el surgimiento de la sociedad de la información ha desplazado a la minucias de comunicación (textos, contextos, imágenes, interfaces y, sobre todo, información) en el centro mismo de los intentos de los investigadores por lograr la autocomprensión\".**_\n",
    "- Krippendorff, 2019"
   ]
  },
  {
   "cell_type": "markdown",
   "metadata": {},
   "source": [
    "El análisis de contenido nace de una intención de identificar significado de los mensajes. El contenido de análisis es un técnica de investigación replicable y que permite llegar a inferencias validas del texto en base a su contexto."
   ]
  },
  {
   "cell_type": "markdown",
   "metadata": {},
   "source": [
    "### _**\"Los análisis de contenido tienen más éxito cuando se centran en hechos que se constituyen en el lenguaje, en los usos de los mismos textos que los analistas de contenido están analizando\".**_\n",
    "- Krippendorff, 2019"
   ]
  },
  {
   "cell_type": "markdown",
   "metadata": {},
   "source": [
    "Nelson propone en su artículo un nuevo diseño de investigación iterativo en el que se mezcla técnicas computacionales con abordajes cualitativos para fortalecer los procesos de investigación social. El diseño consiste en 3 pasos iterativos moviendose entre herramientas computacionales y cualitativas para fortalecer los resultados. En la sesión de hoy utilizaremos herramientas que nos permiten explorar el contenido para identificar ideas en el contenido.  Utilizaremos la base de datos de discursos de la casa de los comunes en el Reino Unido. "
   ]
  },
  {
   "cell_type": "markdown",
   "metadata": {},
   "source": [
    "## IMPORTACIÓN DE HERRAMIENTAS"
   ]
  },
  {
   "cell_type": "code",
   "execution_count": 1,
   "metadata": {},
   "outputs": [],
   "source": [
    "import pickle\n",
    "from pprint import pprint\n",
    "import pandas as pd\n",
    "pd.set_option(\"display.notebook_repr_html\", False)\n",
    "import numpy as np\n",
    "import seaborn as sns\n",
    "import matplotlib.pyplot as plt\n",
    "from dcss.text import bigram_process, preprocess, bow_to_df\n",
    "from dcss.plotting import format_axes_commas, custom_seaborn\n",
    "from dcss.utils import sparse_groupby\n",
    "custom_seaborn()\n",
    "import spacy\n",
    "nlp = spacy.load('en_core_web_sm')\n",
    "from sklearn.feature_extraction.text import CountVectorizer, TfidfVectorizer\n",
    "from sklearn.decomposition import TruncatedSVD\n",
    "from sklearn.preprocessing import Normalizer\n",
    "import scipy"
   ]
  }
 ],
 "metadata": {
  "kernelspec": {
   "display_name": "Python 3",
   "language": "python",
   "name": "python3"
  },
  "language_info": {
   "codemirror_mode": {
    "name": "ipython",
    "version": 3
   },
   "file_extension": ".py",
   "mimetype": "text/x-python",
   "name": "python",
   "nbconvert_exporter": "python",
   "pygments_lexer": "ipython3",
   "version": "3.10.13"
  }
 },
 "nbformat": 4,
 "nbformat_minor": 2
}
