{
 "cells": [
  {
   "cell_type": "code",
   "execution_count": 1,
   "metadata": {},
   "outputs": [],
   "source": [
    "import praw"
   ]
  },
  {
   "cell_type": "code",
   "execution_count": 3,
   "metadata": {},
   "outputs": [
    {
     "name": "stdout",
     "output_type": "stream",
     "text": [
      "True\n"
     ]
    }
   ],
   "source": [
    "reddit = praw.Reddit(\n",
    "    client_id = \"\",\n",
    "    client_secret = \"\",\n",
    "    user_agent= \"\",\n",
    ")\n",
    "\n",
    "print(reddit.read_only)"
   ]
  },
  {
   "cell_type": "code",
   "execution_count": 5,
   "metadata": {},
   "outputs": [
    {
     "name": "stdout",
     "output_type": "stream",
     "text": [
      "test\n",
      "Some test commands\n",
      "Link Test 2\n",
      "Testing something\n",
      "Clipboard test\n",
      "thello)\n",
      "DDR Strichtarn Chest Rig\n",
      "js\n",
      "Test\n",
      "test\n",
      "Test2\n",
      "Test\n",
      "Testing out reddit!\n",
      "Electron App test\n",
      "Test\n",
      "this is a test\n",
      "test\n",
      "This is a text test\n",
      "Snapshot taken at 1711338517\n",
      "Snapshot taken at 1711338511\n",
      "Snapshot taken at 1711338506\n",
      "Snapshot taken at 1711338500\n",
      "Snapshot taken at 1711338494\n",
      "Snapshot hash taken at 1711338483\n",
      "Snapshot hash taken at 1711338478\n",
      "Snapshot hash taken at 1711338472\n",
      "Snapshot hash taken at 1711338467\n",
      "Snapshot hash taken at 1711338460\n",
      "Chord\n",
      "Test links \n",
      "testtest\n",
      "Snapshot taken at 1711323681\n",
      "Snapshot taken at 1711323676\n",
      "Snapshot taken at 1711323670\n",
      "Snapshot taken at 1711323665\n",
      "Snapshot taken at 1711323658\n",
      "test\n",
      "Snapshot hash taken at 1711317096\n",
      "Snapshot hash taken at 1711317091\n",
      "Snapshot hash taken at 1711317085\n",
      "Snapshot hash taken at 1711317080\n",
      "Snapshot hash taken at 1711317073\n",
      "Snapshot hash taken at 1711316745\n",
      "Snapshot hash taken at 1711316740\n",
      "Snapshot hash taken at 1711316736\n",
      "Snapshot hash taken at 1711316732\n",
      "Snapshot hash taken at 1711316726\n",
      "Snapshot hash taken at 1711316717\n",
      "Snapshot hash taken at 1711316713\n",
      "Snapshot hash taken at 1711316708\n",
      "Snapshot hash taken at 1711316704\n",
      "Snapshot hash taken at 1711316699\n",
      "Snapshot hash taken at 1711316643\n",
      "Snapshot hash taken at 1711316639\n",
      "Snapshot hash taken at 1711316634\n",
      "Snapshot hash taken at 1711316630\n",
      "Snapshot hash taken at 1711316624\n",
      "Snapshot taken at 1711315829\n",
      "Snapshot taken at 1711315825\n",
      "Snapshot taken at 1711315820\n",
      "Snapshot taken at 1711315816\n",
      "Snapshot taken at 1711315811\n",
      "Snapshot taken at 1711315758\n",
      "Snapshot taken at 1711315754\n",
      "Snapshot taken at 1711315749\n",
      "Snapshot taken at 1711315745\n",
      "Snapshot taken at 1711315740\n",
      "Snapshot taken at 1711315644\n",
      "Snapshot taken at 1711315640\n",
      "Snapshot taken at 1711315635\n",
      "Snapshot taken at 1711315631\n",
      "Snapshot taken at 1711315626\n",
      "Snapshot taken at 1711314451\n",
      "Snapshot taken at 1711314434\n",
      "Snapshot taken at 1711314208\n",
      "Snapshot taken at 1711314044\n",
      "Snapshot taken at 1711314029\n",
      "test\n",
      "Upgrading Coconut based soaps\n",
      "sardsa\n",
      "Snapshot taken at 1711304157\n",
      "Snapshot taken at 1711304154\n",
      "Snapshot taken at 1711304150\n",
      "Snapshot taken at 1711304147\n",
      "Snapshot taken at 1711304142\n",
      "testest\n",
      "Kristen Bell\n",
      "test_command_for_me\n",
      "Hola!\n",
      "zero thousand one\n",
      "~~test~~\n",
      "ぴ\n",
      "pi\n",
      "Kristen Bell\n",
      "Is this positive or Evap line\n",
      "test\n",
      "Husky test\n",
      "test nsfw\n",
      "test123\n",
      "Food\n"
     ]
    }
   ],
   "source": [
    "for submission in reddit.subreddit(\"test\").hot(limit=100):\n",
    "    print(submission.title)"
   ]
  }
 ],
 "metadata": {
  "kernelspec": {
   "display_name": "Python 3",
   "language": "python",
   "name": "python3"
  },
  "language_info": {
   "codemirror_mode": {
    "name": "ipython",
    "version": 3
   },
   "file_extension": ".py",
   "mimetype": "text/x-python",
   "name": "python",
   "nbconvert_exporter": "python",
   "pygments_lexer": "ipython3",
   "version": "3.10.13"
  }
 },
 "nbformat": 4,
 "nbformat_minor": 2
}
